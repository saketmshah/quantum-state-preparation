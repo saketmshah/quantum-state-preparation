{
 "cells": [
  {
   "cell_type": "code",
   "execution_count": 2,
   "id": "861f1cfe",
   "metadata": {},
   "outputs": [],
   "source": [
    "from qiskit.circuit import QuantumCircuit, QuantumRegister, AncillaRegister\n",
    "from qiskit.quantum_info import Statevector, Operator\n",
    "from qiskit.circuit.library import QFT\n",
    "from qiskit.visualization import array_to_latex\n",
    "\n",
    "import matplotlib.pyplot as plt\n",
    "\n",
    "import numpy as np"
   ]
  },
  {
   "cell_type": "markdown",
   "id": "618e3951",
   "metadata": {},
   "source": [
    "This project implements the algorithm for Quantum State Preparation presented in the paper of Low, Kliuchnikov and Schaeffer (https://arxiv.org/pdf/1812.00954). Given a vector $\\psi \\in \\mathbb{C}^{2^n}$ of unit length, we implement a circuit $U$ such that $$U|0\\rangle_n = \\sum_{x \\in \\mathbb{F}_2^n} \\psi_x |x\\rangle_n.$$"
   ]
  },
  {
   "cell_type": "markdown",
   "id": "fdb33208",
   "metadata": {},
   "source": [
    "The general outline is as follows: we implement (several versions of) QROM (also known as data access oracles) using SELECT and SELECTSWAP algorithms. Along the way, we implement logarithmic depth fanout (i.e. C(X^n)) and C(SWAP^n) gates. We then use our QROM implementations to implement multiplexed Y-rotations in the Quantum State Preparation algorithm. We use these roations to construct the state we are preparing inductively, first preparing in absolute value via multiplexed Y-gate the $(m+1)^{\\text{th}}$ qubit controlled on the previous $m$ qubits, and then after the state is prepared in absolute value, applying a diagonal phase gate. The precise details of the inductive construction can be found at equation (9) of the paper linked above. "
   ]
  },
  {
   "cell_type": "markdown",
   "id": "788ffca0",
   "metadata": {},
   "source": [
    "First, we implement a fanout circuit with linear gate count and logarithmic depth, following appendix B.1 of the paper above. The idea is that the fanout can be implemented using a \"ladder\" where each qubit can be used to control later qubits, so that if the first control qubit is in the $ | 1 \\rangle $ state, the bitswitches \"cascade\" down the ladder. "
   ]
  },
  {
   "cell_type": "code",
   "execution_count": 3,
   "id": "d561b80b",
   "metadata": {},
   "outputs": [],
   "source": [
    "# inputs: \n",
    "# n: positive integer\n",
    "# \n",
    "# implements a fanout circuit, i.e. C(X^n) in logarithmic depth\n",
    "\n",
    "def log_ladder(n):\n",
    "    quantum_circuit = QuantumCircuit(n, name='log_ladder')\n",
    "\n",
    "    for i in range(1, n):\n",
    "        dist = np.floor(np.log2(i)).astype(int) + 1\n",
    "        quantum_circuit.cx(i - dist , i)\n",
    "    \n",
    "    return quantum_circuit  \n",
    "\n",
    "def fanout_gate(n):\n",
    "    control_register = QuantumRegister(1, 'control')\n",
    "    output_register = QuantumRegister(n, 'output')\n",
    "\n",
    "    log_ladder_gate = log_ladder(n).to_gate()\n",
    "    log_ladder_inverse = log_ladder(n).inverse().to_gate()\n",
    "    \n",
    "    qc = QuantumCircuit(control_register, output_register)\n",
    "\n",
    "    qc.compose(log_ladder_inverse, inplace=True, qubits = output_register)\n",
    "    qc.cx(control_register[0], output_register[0])\n",
    "    qc.compose(log_ladder_gate, inplace=True, qubits = output_register)\n",
    "    \n",
    "    return qc.to_gate()"
   ]
  },
  {
   "cell_type": "markdown",
   "id": "6a027a99",
   "metadata": {},
   "source": [
    "It is worth noting that the same appendix B.1 in the paper above indicates a marginally more efficient algorithm for the same fanout gate (see equation (22)), but I was unable to follow their argument...\n",
    "\n",
    "Now we implement a select ROM essentially identically to our strategy in class, though we make use of a single ancillary qubit to use as a control for the fanout gate constructed above. "
   ]
  },
  {
   "cell_type": "code",
   "execution_count": 4,
   "id": "97b63b3e",
   "metadata": {},
   "outputs": [],
   "source": [
    "# inputs: \n",
    "# n, b : positive integers where n is the input qubit count and b \n",
    "# is the output qubit count\n",
    "# data : an array of length 2**n representing a function f: {0,1}^n -> {0,1}^b\n",
    "#\n",
    "# if x = (x_n x_{n-1} ... x_0) in {0,1}^n is viewed as an integer x_n*2^{n-1} + ... + x_0, then data[x] = [indices of 1s in f(x)]\n",
    "\n",
    "# implements a select ROM\n",
    "def select_subroutine(n, b, data):\n",
    "    input_register = QuantumRegister(n, name='input')\n",
    "    output_register = QuantumRegister(b, name='output')\n",
    "    ancilla_register = AncillaRegister(1, name='ancilla')\n",
    "\n",
    "    qc = QuantumCircuit(input_register, output_register, ancilla_register, name='select')\n",
    "\n",
    "    # Apply the select operation based on the data\n",
    "    for i in range(2**n):\n",
    "        # extracts length n bitstring for the current index i\n",
    "        i_bit = ((i >> np.arange(n))%2)[::-1]\n",
    "\n",
    "        # if the i-th entry in data is empty, skip to the next iteration\n",
    "        if not data[i]:\n",
    "            continue\n",
    "        \n",
    "        fanout = fanout_gate(len(data[i]))\n",
    "\n",
    "        for j in range(n):\n",
    "            if i_bit[j] == 0:\n",
    "                # if the j-th bit of i is 0, apply a controlled NOT gate\n",
    "                qc.x(input_register[j])\n",
    "\n",
    "            \n",
    "        qc.mcx(input_register[:], ancilla_register[0])\n",
    "        qc.compose(fanout, inplace=True, qubits=[ancilla_register[0]] + output_register[data[i]])\n",
    "        qc.mcx(input_register[:], ancilla_register[0])\n",
    "        \n",
    "        for j in range(n):\n",
    "            if i_bit[j] == 0:\n",
    "                # if the j-th bit of i is 0, apply a controlled NOT gate\n",
    "                qc.x(input_register[j])\n",
    "\n",
    "    return qc"
   ]
  },
  {
   "cell_type": "markdown",
   "id": "c8c1e9b5",
   "metadata": {},
   "source": [
    "We also implement a logarithmic depth C(SWAP^n) gate following the strategy of appendix B.2.2, which makes use of the fanout gate to parallelize the controlled swaps. The idea is that Notably, this gate can be broken up into two steps, each on half of the qubits, both of which use some of the other's qubits as dirty ancillas. "
   ]
  },
  {
   "cell_type": "code",
   "execution_count": 5,
   "id": "bec5ef91",
   "metadata": {},
   "outputs": [],
   "source": [
    "# inputs:\n",
    "# n: positive integer\n",
    "#\n",
    "# implements a controlled swap gate on two n-qubit registers, i.e. C(SWAP^n) in logarithmic depth\n",
    "\n",
    "def cswap_gate(n):\n",
    "    control_register = QuantumRegister(1, 'control')\n",
    "    input_register_1 = QuantumRegister(n, 'input_1')\n",
    "    input_register_2 = QuantumRegister(n, 'input_2')\n",
    "\n",
    "    qc = QuantumCircuit(control_register, input_register_1, input_register_2, name='cswap_gate')\n",
    "\n",
    "    # if n is odd, apply a controlled swap on the last qubits \n",
    "    if (n % 2) == 1:\n",
    "        qc.cswap(control_register[0], input_register_1[n - 1], input_register_2[n - 1])\n",
    "\n",
    "    # using the odd-indexed qubits in input_register_1 as dirty ancillas, implement C(SWAP^n) on the even qubits\n",
    "    for i in range(0, 2 * (n // 2), 2):\n",
    "        qc.cswap(input_register_1[i+1], input_register_1[i], input_register_2[i])\n",
    "\n",
    "    qc.compose(fanout_gate(n // 2), inplace=True, qubits=[control_register[0]] + input_register_1[1: 2 * (n // 2) : 2])\n",
    "\n",
    "    for i in range(0, 2 * (n // 2), 2):\n",
    "        qc.cswap(input_register_1[i+1], input_register_1[i], input_register_2[i])\n",
    "    \n",
    "    qc.compose(fanout_gate(n // 2), inplace=True, qubits=[control_register[0]] + input_register_1[1: 2 * (n // 2) : 2])\n",
    "\n",
    "    # using the odd-indexed qubits in input_register_1 as dirty ancillas, implement C(SWAP^n) on the even qubits\n",
    "    for i in range(1, 2 * (n // 2), 2):\n",
    "        qc.cswap(input_register_1[i-1], input_register_1[i], input_register_2[i])\n",
    "\n",
    "    qc.compose(fanout_gate(n // 2), inplace=True, qubits=[control_register[0]] + input_register_1[0: 2 * (n // 2) : 2])\n",
    "\n",
    "    for i in range(1, 2 * (n // 2), 2):\n",
    "        qc.cswap(input_register_1[i-1], input_register_1[i], input_register_2[i])\n",
    "    \n",
    "    qc.compose(fanout_gate(n // 2), inplace=True, qubits=[control_register[0]] + input_register_1[0: 2 * (n // 2) : 2])\n",
    "\n",
    "    return qc.to_gate()"
   ]
  },
  {
   "cell_type": "markdown",
   "id": "e2be9672",
   "metadata": {},
   "source": [
    "Given the above, we construct an implementation of a SWAP ROM, using the same strategy as was used in class. We omit the initialization of the ancillary qubits coming from the input data as, when used as a subroutine in a SELECTSWAP ROM, the ancilla are pre-initialized by the SELECT ROM. "
   ]
  },
  {
   "cell_type": "code",
   "execution_count": 6,
   "id": "f2a67f9f",
   "metadata": {},
   "outputs": [],
   "source": [
    "# inputs: \n",
    "# n, b : positive integers where n is the input qubit count and b is the output qubit count\n",
    "# data : an array of length 2**n representing a function f: {0,1}^n -> {0,1}^b\n",
    "# if x = (x_n x_{n-1} ... x_0) in {0,1}^n is viewed as an integer x_n*2^{n-1} + ... + x_0, then data[x] = [indices of 1s in f(x)]\n",
    "\n",
    "def swap_subroutine(n, b):\n",
    "    input_register = QuantumRegister(n, name='input')\n",
    "    ancilla_register = AncillaRegister(b * (2 ** n), name='ancilla')\n",
    "    qc = QuantumCircuit(input_register, ancilla_register, name='swap')\n",
    "\n",
    "    # apply all controlled swap operations\n",
    "\n",
    "    for i in range(n):\n",
    "        controlled_swap = cswap_gate((2**(n-i-1)) * b)\n",
    "        qc.compose(controlled_swap, inplace=True, qubits = [input_register[i]] + ancilla_register[:(2**(n-i)) * b])\n",
    "    \n",
    "    return qc"
   ]
  },
  {
   "cell_type": "markdown",
   "id": "0887cc0c",
   "metadata": {},
   "source": [
    "Using the two together, we can implement a SELECT-SWAP ROM. When making use of the subroutine, it is worth recalling that the output of the ROM is on the first $b$ ancillary qubits. "
   ]
  },
  {
   "cell_type": "code",
   "execution_count": 7,
   "id": "50db8039",
   "metadata": {},
   "outputs": [],
   "source": [
    "# inputs: \n",
    "# n, b, data : as above\n",
    "# k : integer, determining the number of qubits to use SWAP subroutine on\n",
    "# if n = 1, just runs select\n",
    "\n",
    "def select_swap_subroutine(n, b, data, k):\n",
    "    input_register = QuantumRegister(n, name='input')\n",
    "    swap_ancilla = AncillaRegister(b * (2**k), name='swap_ancilla')\n",
    "    select_ancilla = AncillaRegister(1, name='select_ancilla')\n",
    "    qc = QuantumCircuit(input_register, swap_ancilla, select_ancilla, name='select_swap')\n",
    "\n",
    "    # if n = 1, just use select\n",
    "    if n == 1:\n",
    "        qc.compose(select_subroutine(n, b, data), inplace=True, qubits = input_register[:] + swap_ancilla[:b] + select_ancilla[:])\n",
    "    else:\n",
    "        # reformatting the data for the select subroutine\n",
    "\n",
    "        select_data = []\n",
    "        for i in range(2**(n - k)):\n",
    "            current_array = np.array([], dtype=int)\n",
    "            for j in range(2**k):\n",
    "                current_array = np.append(current_array, b*j + np.array(data[i * (2**k) + j]))\n",
    "            select_data.append(list(current_array.astype(int)))\n",
    "\n",
    "        # apply the select subroutine\n",
    "        select = select_subroutine(n - k, b * (2**k), select_data)\n",
    "        qc.compose(select, inplace=True, qubits = input_register[:n - k] + swap_ancilla[:] + select_ancilla[:])\n",
    "\n",
    "        # apply the swap subroutine\n",
    "        swap = swap_subroutine(k, b)\n",
    "        qc.compose(swap, inplace=True, qubits = input_register[n - k:] + swap_ancilla[:])\n",
    "\n",
    "    return qc\n",
    "    "
   ]
  },
  {
   "cell_type": "markdown",
   "id": "777ca730",
   "metadata": {},
   "source": [
    "We complete the quantum state preparation circuit by implementing data-access oracles containing digitized approximations of angles in order to do multiplexed Y-rotations; if $|\\psi\\rangle = \\sum_{x \\in \\mathbb{F}_2^n} \\psi_x|x\\rangle_n$ is our target state, these multiplexed Y-rotations allow us to rotate the initial state $|0...0>$ to the \"absolute value\" state $\\sum_{x \\in \\mathbb{F}_2^n} |\\psi_x||x\\rangle_n$. Then we use QROM once again to implement a diagonal operation on this \"absolute value\" state to restore the phases. \n",
    "\n",
    "A remark on errors: the paper observes (equation (10)) that the error from using $b$ bits in the precision of these angles is on the order of $2^{-b} \\times n$. So for some error $\\epsilon$, we may want to take $b = O(\\lfloor \\log_2(\\epsilon n)) \\rfloor$. However, I'm not sure how large the constants are, here, so for simplicity let's take $b = \\lfloor \\log_2 n \\rfloor + 10$. \n",
    "\n",
    "A remark on the choice of $k$ in the application of SELECT-SWAP: the number of qubits $m$ our QROM acts on will vary throughout the circuit. In each case, we will take $k$, the number of qubits the SELECT part acts on, to be $\\lceil m/2 \\rceil$. "
   ]
  },
  {
   "cell_type": "markdown",
   "id": "9e2608f5",
   "metadata": {},
   "source": [
    "As a preliminary step, given $\\psi$ and any bitstring $w$ of length $m$ where $m < n$, we would like to calculate the probability that the first $m$ qubits of $\\psi$ are in the state $w$. We will do this simultaneously for all bitstrings $w$ of length $m$. "
   ]
  },
  {
   "cell_type": "code",
   "execution_count": 8,
   "id": "5d214c59",
   "metadata": {},
   "outputs": [],
   "source": [
    "# inputs: \n",
    "# psi: an array of length 2**n representing a quantum state\n",
    "# n: a positive integer representing the number of qubits in psi\n",
    "# m: a positive integer as described above\n",
    "#\n",
    "# returns a list of 2**m probabilities which for any index (equivalently any bitstring of length m) returns the corresponding probability\n",
    "# bitstring w_m ... w_1 corresponds to index w_m * 2**(m-1) + ... + w_1\n",
    "\n",
    "def probabilities(psi, n, m): \n",
    "\n",
    "    abs_squared_psi = np.abs(np.array(psi)) ** 2\n",
    "    prob_list = []\n",
    "    for i in range(2**m):\n",
    "        \n",
    "        # sum over all probabilities corresponding to the undetermined 2^(n-m) trailing bits\n",
    "        prob_list.append(abs_squared_psi[i * (2**(n-m)) : (i + 1) * (2**(n-m)) ].sum())\n",
    "    \n",
    "    return prob_list\n"
   ]
  },
  {
   "cell_type": "markdown",
   "id": "5e9cd812",
   "metadata": {},
   "source": [
    "We also need to digitize angles to feed them into the QROM, so we implement this beforehand as well."
   ]
  },
  {
   "cell_type": "code",
   "execution_count": 9,
   "id": "d874ce1d",
   "metadata": {},
   "outputs": [],
   "source": [
    "# inputs: \n",
    "# theta: an angle in (-pi, pi]\n",
    "# b: an integer representing the number of binary digits \n",
    "#\n",
    "# given theta, returns the b-bit binary representation of floor(2^b * theta/(2*pi))\n",
    "# by giving the indices where 1 appears in the binary representation. \n",
    "\n",
    "def angle_to_bitstring(theta, b): \n",
    "    if theta < 0:\n",
    "        newtheta = theta + 2*np.pi\n",
    "    else:\n",
    "        newtheta = theta\n",
    "    return [i for i in range(b) \n",
    "            if ( ( int( np.floor( 2**b * newtheta/ (2*np.pi) ) ) ) >> (b - 1 - i) ) % 2 == 1]"
   ]
  },
  {
   "cell_type": "markdown",
   "id": "8de5be08",
   "metadata": {},
   "source": [
    "Finally, we need to implement a simple phase rotation which sends our b-bit ancillae $| x \\rangle_b$ to $e^{\\pm 2\\pi ix/2^b}|x\\rangle_b$. "
   ]
  },
  {
   "cell_type": "code",
   "execution_count": 10,
   "id": "aeeeabd1",
   "metadata": {},
   "outputs": [],
   "source": [
    "# inputs: \n",
    "# b : integer, number of qubits\n",
    "# pos : boolean, if false, scale by e^{-2*pi*i*x/2^b} instead of e^{2*pi*i*x/2^b}\n",
    "\n",
    "def phaser(b, pos):\n",
    "    quantum_register = QuantumRegister(b, name='register')\n",
    "    quantum_circuit = QuantumCircuit(quantum_register, name = 'phaser')\n",
    "    for i in range(b): \n",
    "        if pos:\n",
    "            quantum_circuit.p(2*np.pi/2**(i+1), quantum_register[i])\n",
    "        else: \n",
    "            quantum_circuit.p(-2*np.pi/2**(i+1), quantum_register[i])\n",
    "    return quantum_circuit\n"
   ]
  },
  {
   "cell_type": "markdown",
   "id": "341a0a4b",
   "metadata": {},
   "source": [
    "We include two implementations of the QSP: one using the SELECTSWAP ROM, and one using a simpler SELECT ROM, since when simulated, the SELECT ROM runs faster."
   ]
  },
  {
   "cell_type": "code",
   "execution_count": 11,
   "id": "7d47a8c6",
   "metadata": {},
   "outputs": [],
   "source": [
    "# inputs:\n",
    "# n : positive integer, number of qubits\n",
    "# psi : an array of length 2**n, representing the target state of the preparation circuit\n",
    "# b : positive integer, angle digitization precision\n",
    "\n",
    "def QSP_selectswap(n, psi, b):\n",
    "    if len(psi) != 2**n:\n",
    "        raise ValueError(\"State vector length must be 2^n for n qubits.\")\n",
    "\n",
    "    # factor determining the maximum number of qubits we use SELECT ROM on \n",
    "    maxk = np.ceil(n/2).astype(int)\n",
    "\n",
    "    state_register = QuantumRegister(n, name='state')\n",
    "    swap_ancilla = AncillaRegister(b * (2**maxk), name='swap_ancilla')\n",
    "    select_ancilla = AncillaRegister(1, name='select_ancilla')\n",
    "\n",
    "    qc = QuantumCircuit(state_register, swap_ancilla, select_ancilla, name='QSP')\n",
    "\n",
    "    # prepare the first qubit according to psi\n",
    "    qc.ry(2 * np.arccos(np.sqrt(probabilities(psi, n, 1)[0])), state_register[0])\n",
    "\n",
    "    # inductively prepare the remaining qubits by using QROM to implement multiplexed rotations\n",
    "    # after the for loop, the result is a correct up to phase\n",
    "    for m in range(1, n):\n",
    "        # take k to be the number of qubits the SELECT part of QROM runs on\n",
    "        k = np.ceil(m/2).astype(int)\n",
    "\n",
    "        probabilities_list_1 = probabilities(psi, n, m)\n",
    "        probabilities_list_2 = probabilities(psi, n, m + 1)\n",
    "\n",
    "        # builds an array of 2**m angles: if w is a length m bitstring and p_{w} is the probability of the first m qubits being w, \n",
    "        # then the angle corresponding to w is arccos(sqrt(p_{w0}/p_{w})) where w0 is the bitstring obtained by appending a 0 to w\n",
    "        # the bitshift w0 of w corresponds to multiplication of w by 2 as a number\n",
    "        # if p_w = 0, then take the angle to be 0 since no rotation is necessary\n",
    "\n",
    "        bit_angle_list = []\n",
    "        for i in range(2**m):\n",
    "            if probabilities_list_1[i] == 0: \n",
    "                angle = 0\n",
    "            else:\n",
    "                angle = np.arccos(np.sqrt(probabilities_list_2[2*i]/probabilities_list_1[i]))\n",
    "            \n",
    "            # digitizes the number 2**b * angle/(2*pi) in [0,2**b) into a length b bitstring\n",
    "            bit_angle_list.append(angle_to_bitstring(angle, b))\n",
    "\n",
    "        rom = select_swap_subroutine(m, b, bit_angle_list, k)\n",
    "        \n",
    "        # run QROM using this data \n",
    "        qc.compose(rom, inplace=True, qubits = state_register[:m] + swap_ancilla[:b * (2**k)] + select_ancilla[:])\n",
    "\n",
    "        # implement the multiplexed rotations on the (m+1)th qubit controlled on the first m qubits\n",
    "        # this is effectively multiplexed R_Z gate which we conjugate by SH to get a multiplexed R_Y gate\n",
    "\n",
    "        qc.sdg(state_register[m])\n",
    "        qc.h(state_register[m])\n",
    "\n",
    "        qc.compose(fanout_gate(b), inplace=True, qubits = [state_register[m]] + swap_ancilla[:b])\n",
    "\n",
    "        qc.compose(phaser(b, False), inplace=True, qubits = swap_ancilla[:b])\n",
    "        qc.p(-2*np.pi/2**b, state_register[m])\n",
    "\n",
    "        qc.compose(fanout_gate(b), inplace=True, qubits = [state_register[m]] + swap_ancilla[:b])\n",
    "\n",
    "        qc.h(state_register[m])\n",
    "        qc.s(state_register[m])\n",
    "\n",
    "        qc.compose(rom.inverse(), inplace=True, qubits = state_register[:m] + swap_ancilla[:b * (2**k)] + select_ancilla[:])\n",
    "    \n",
    "    # correct the phases\n",
    "    # implement a diagonal unitary using QROM on the phases for each term in psi\n",
    "    phase_list = [angle_to_bitstring(np.angle(term), b) for term in psi]\n",
    "    \n",
    "    rom = select_swap_subroutine(n, b, phase_list, maxk)\n",
    "\n",
    "    # run QROM using this data\n",
    "    qc.compose(rom, inplace=True, qubits = state_register[:] + swap_ancilla[:] + select_ancilla[:])\n",
    "\n",
    "    qc.compose(phaser(b, True), inplace = True, qubits = swap_ancilla[:b])\n",
    "\n",
    "    qc.compose(rom.inverse(), inplace=True, qubits = state_register[:] + swap_ancilla[:] + select_ancilla[:])\n",
    "\n",
    "    return qc\n"
   ]
  },
  {
   "cell_type": "code",
   "execution_count": 12,
   "id": "54f522e5",
   "metadata": {},
   "outputs": [],
   "source": [
    "# inputs:\n",
    "# n : positive integer, number of qubits\n",
    "# psi : an array of length 2**n, representing the target state of the preparation circuit\n",
    "# b : positive integer, angle digitization precision\n",
    "\n",
    "def QSP_select(n, psi, b):\n",
    "    if len(psi) != 2**n:\n",
    "        raise ValueError(\"State vector length must be 2^n for n qubits.\")\n",
    "\n",
    "    state_register = QuantumRegister(n, name='state')\n",
    "    rom_output = AncillaRegister(b, name='output')\n",
    "    rom_ancilla = AncillaRegister(1, name='select_ancilla')\n",
    "\n",
    "    qc = QuantumCircuit(state_register, rom_output, rom_ancilla, name='QSP')\n",
    "\n",
    "    # prepare the first qubit according to psi\n",
    "    qc.ry(2 * np.arccos(np.sqrt(probabilities(psi, n, 1)[0])), state_register[0])\n",
    "\n",
    "    # inductively prepare the remaining qubits by using QROM to implement multiplexed rotations\n",
    "    # after the for loop, the result is a correct up to phase\n",
    "    for m in range(1, n):\n",
    "        # take k to be the number of qubits the SELECT part of QROM runs on\n",
    "        k = np.ceil(m/2).astype(int)\n",
    "\n",
    "        probabilities_list_1 = probabilities(psi, n, m)\n",
    "        probabilities_list_2 = probabilities(psi, n, m + 1)\n",
    "\n",
    "        # builds an array of 2**m angles: if w is a length m bitstring and p_{w} is the probability of the first m qubits being w, \n",
    "        # then the angle corresponding to w is arccos(sqrt(p_{w0}/p_{w})) where w0 is the bitstring obtained by appending a 0 to w\n",
    "        # the bitshift w0 of w corresponds to multiplication of w by 2 as a number\n",
    "        # if p_w = 0, then take the angle to be 0 since no rotation is necessary\n",
    "\n",
    "        bit_angle_list = []\n",
    "        for i in range(2**m):\n",
    "            if probabilities_list_1[i] == 0: \n",
    "                angle = 0\n",
    "            else:\n",
    "                angle = np.arccos(np.sqrt(probabilities_list_2[2*i]/probabilities_list_1[i]))\n",
    "            \n",
    "            # digitizes the number 2**b * angle/(2*pi) in [0,2**b) into a length b bitstring\n",
    "            bit_angle_list.append(angle_to_bitstring(angle, b))\n",
    "\n",
    "        sel = select_subroutine(m, b, bit_angle_list)\n",
    "        \n",
    "        # run QROM using this data \n",
    "        qc.compose(sel, inplace=True, qubits = state_register[:m] + rom_output[:] + rom_ancilla[:])\n",
    "\n",
    "        # implement the multiplexed rotations on the (m+1)th qubit controlled on the first m qubits\n",
    "        # this is effectively multiplexed R_Z gate which we conjugate by SH to get a multiplexed R_Y gate\n",
    "\n",
    "        qc.sdg(state_register[m])\n",
    "        qc.h(state_register[m])\n",
    "\n",
    "        qc.compose(fanout_gate(b), inplace=True, qubits = [state_register[m]] + rom_output[:b])\n",
    "\n",
    "        qc.compose(phaser(b, False), inplace=True, qubits = rom_output[:b])\n",
    "        qc.p(-2*np.pi/2**b, state_register[m])\n",
    "\n",
    "        qc.compose(fanout_gate(b), inplace=True, qubits = [state_register[m]] + rom_output[:b])\n",
    "\n",
    "        qc.h(state_register[m])\n",
    "        qc.s(state_register[m])\n",
    "\n",
    "        qc.compose(sel.inverse(), inplace=True, qubits = state_register[:m] + rom_output[:] + rom_ancilla[:])\n",
    "    \n",
    "    # correct the phases\n",
    "    # implement a diagonal unitary using QROM on the phases for each term in psi\n",
    "    phase_list = [angle_to_bitstring(np.angle(term), b) for term in psi]\n",
    "    \n",
    "    sel = select_subroutine(n, b, phase_list)\n",
    "\n",
    "    # run QROM using this data\n",
    "    qc.compose(sel, inplace=True, qubits = state_register[:] + rom_output[:] + rom_ancilla[:])\n",
    "\n",
    "    qc.compose(phaser(b, True), inplace = True, qubits = rom_output[:])\n",
    "\n",
    "    qc.compose(sel.inverse(), inplace=True, qubits = state_register[:] + rom_output[:] + rom_ancilla[:])\n",
    "\n",
    "    return qc"
   ]
  },
  {
   "cell_type": "markdown",
   "id": "a7eebd17",
   "metadata": {},
   "source": [
    "First, we include some testing on various inputs of the SELECT and SELECTSWAP ROM.\n",
    "Remark for the tester: everything above was coded using the convention that the most significant qubit comes first (which is not the standard convention that Qiskit uses)! For convenience we have included a function that reverses the order of bitstrings using swaps. "
   ]
  },
  {
   "cell_type": "code",
   "execution_count": 13,
   "id": "3a2504d5",
   "metadata": {},
   "outputs": [],
   "source": [
    "# inputs: \n",
    "# n : an integer representing the length of the qubit to swap \n",
    "\n",
    "def output_swapper(n):\n",
    "    qc = QuantumCircuit(n)\n",
    "    for i in range(n // 2):\n",
    "        qc.swap(i, n-1-i)\n",
    "    return qc"
   ]
  },
  {
   "cell_type": "code",
   "execution_count": 14,
   "id": "2248cdd5",
   "metadata": {},
   "outputs": [],
   "source": [
    "# example data to use in testing the ROM\n",
    "\n",
    "# function from F_2^3 -> F_2^2\n",
    "data1 = [[0, 1], [1], [], [0], [1], [], [0, 1], []]\n",
    "\n",
    "# function from F_2^3 -> F_2^4\n",
    "data2 = [[], [3], [2], [2, 3], [1], [1, 3], [1, 2], [1, 2, 3]]\n",
    "\n",
    "# function from F_2^4 -> F_2^3\n",
    "data3 = [[], [2], [1], [1, 2], [0], [0, 2], [0, 1], [0, 1, 2], [], [2], [1], [1, 2], [0], [0, 2], [0, 1], [0, 1, 2]]"
   ]
  },
  {
   "cell_type": "code",
   "execution_count": 15,
   "id": "0146f03f",
   "metadata": {},
   "outputs": [
    {
     "data": {
      "text/latex": [
       "$$ |00011011\\rangle$$"
      ],
      "text/plain": [
       "<IPython.core.display.Latex object>"
      ]
     },
     "execution_count": 15,
     "metadata": {},
     "output_type": "execute_result"
    }
   ],
   "source": [
    "input_register = QuantumRegister(3, name='input')\n",
    "output_register = QuantumRegister(4, name='output')\n",
    "ancilla_register = AncillaRegister(1, name='ancilla')\n",
    "qc = QuantumCircuit(input_register, output_register, ancilla_register)\n",
    "\n",
    "# prepare the input state |110>, which corresponds to the integer 6\n",
    "qc.x(input_register[[0,1]])\n",
    "\n",
    "qc.compose(select_subroutine(3, 3, data1), inplace=True)\n",
    "Statevector(qc).draw('latex')"
   ]
  },
  {
   "cell_type": "code",
   "execution_count": 16,
   "id": "134613df",
   "metadata": {},
   "outputs": [
    {
     "data": {
      "text/latex": [
       "$$ |00000000001110\\rangle$$"
      ],
      "text/plain": [
       "<IPython.core.display.Latex object>"
      ]
     },
     "execution_count": 16,
     "metadata": {},
     "output_type": "execute_result"
    }
   ],
   "source": [
    "n = 3\n",
    "k = 2\n",
    "b = 2\n",
    "\n",
    "input_register = QuantumRegister(n, name='input')\n",
    "swap_ancilla = AncillaRegister(b*(2**k), name='swap_ancilla')\n",
    "select_ancilla = AncillaRegister(1, name='select_ancilla')\n",
    "output_register = QuantumRegister(b, name='output')\n",
    "qc = QuantumCircuit(input_register, output_register, swap_ancilla, select_ancilla)\n",
    "\n",
    "# prepare the input state |011>, which corresponds to the integer 3\n",
    "qc.x(input_register[[1,2]])\n",
    "\n",
    "select_swap = select_swap_subroutine(n, b, data1, k)\n",
    "\n",
    "qc.compose(select_swap, inplace=True, qubits = input_register[:] + swap_ancilla[:] + select_ancilla[:])\n",
    "\n",
    "for i in range(b):\n",
    "    qc.cx(swap_ancilla[i], output_register[i])\n",
    "qc.compose(select_swap.inverse(), inplace=True, qubits = input_register[:] + swap_ancilla[:] + select_ancilla[:])\n",
    "\n",
    "Statevector(qc).draw('latex')\n"
   ]
  },
  {
   "cell_type": "code",
   "execution_count": 17,
   "id": "d6e19ecb",
   "metadata": {},
   "outputs": [
    {
     "data": {
      "text/latex": [
       "$$ |01010101\\rangle$$"
      ],
      "text/plain": [
       "<IPython.core.display.Latex object>"
      ]
     },
     "execution_count": 17,
     "metadata": {},
     "output_type": "execute_result"
    }
   ],
   "source": [
    "n = 3\n",
    "k = 2\n",
    "b = 4\n",
    "\n",
    "input_register = QuantumRegister(n, name='input')\n",
    "select_ancilla = AncillaRegister(1, name='select_ancilla')\n",
    "output_register = QuantumRegister(b, name='output')\n",
    "qc = QuantumCircuit(input_register, output_register, select_ancilla)\n",
    "\n",
    "# prepare the input state |101>, which corresponds to the integer 5\n",
    "qc.x(input_register[[0,2]])\n",
    "\n",
    "select = select_subroutine(n, b, data2)\n",
    "\n",
    "qc.compose(select, inplace=True, qubits = input_register[:] + output_register[:] + select_ancilla[:])\n",
    "\n",
    "Statevector(qc).draw('latex')"
   ]
  },
  {
   "cell_type": "code",
   "execution_count": 18,
   "id": "221234de",
   "metadata": {},
   "outputs": [
    {
     "data": {
      "text/latex": [
       "$$ |000000000000000000011011\\rangle$$"
      ],
      "text/plain": [
       "<IPython.core.display.Latex object>"
      ]
     },
     "execution_count": 18,
     "metadata": {},
     "output_type": "execute_result"
    }
   ],
   "source": [
    "n = 3\n",
    "k = 2\n",
    "b = 4\n",
    "\n",
    "input_register = QuantumRegister(n, name='input')\n",
    "swap_ancilla = AncillaRegister(b*(2**k), name='swap_ancilla')\n",
    "select_ancilla = AncillaRegister(1, name='select_ancilla')\n",
    "output_register = QuantumRegister(b, name='output')\n",
    "qc = QuantumCircuit(input_register, output_register, swap_ancilla, select_ancilla)\n",
    "\n",
    "# prepare the input state |110>, which corresponds to the integer 6\n",
    "qc.x(input_register[[0,1]])\n",
    "\n",
    "select_swap = select_swap_subroutine(n, b, data3, k)\n",
    "\n",
    "qc.compose(select_swap, inplace=True, qubits = input_register[:] + swap_ancilla[:] + select_ancilla[:])\n",
    "\n",
    "for i in range(b):\n",
    "    qc.cx(swap_ancilla[i], output_register[i])\n",
    "qc.compose(select_swap.inverse(), inplace=True, qubits = input_register[:] + swap_ancilla[:] + select_ancilla[:])\n",
    "\n",
    "Statevector(qc).draw('latex')"
   ]
  },
  {
   "cell_type": "markdown",
   "id": "c6fb073f",
   "metadata": {},
   "source": [
    "Now we test the state preparation. First we test with low precision to verify that the versions with SELECT and SELECTSWAP give the same outputs. One can see that as we proceed further in the coefficients, the error gets successively worse (owing to the fact that the algorithm is inductive!).\n",
    "\n",
    "Don't run the SELECTSWAP version with a precision of more than 5 if you want your computer not to run out of memory!"
   ]
  },
  {
   "cell_type": "code",
   "execution_count": 19,
   "id": "66bfde22",
   "metadata": {},
   "outputs": [
    {
     "data": {
      "text/plain": [
       "array([-0.34137483-0.36988861j,  0.14720592-0.07609831j,\n",
       "       -0.18596362-0.29054034j, -0.36626724-0.05103465j,\n",
       "       -0.07395902-0.05693002j,  0.03188995-0.47921372j,\n",
       "       -0.02912701-0.41465775j,  0.22329192-0.03755396j])"
      ]
     },
     "execution_count": 19,
     "metadata": {},
     "output_type": "execute_result"
    }
   ],
   "source": [
    "# Create a unit norm vector in C^8\n",
    "vec = np.random.randn(8) + 1j * np.random.randn(8)\n",
    "vec /= np.linalg.norm(vec)\n",
    "vec"
   ]
  },
  {
   "cell_type": "code",
   "execution_count": 30,
   "id": "c12d020f",
   "metadata": {},
   "outputs": [
    {
     "data": {
      "text/latex": [
       "$$(-0.4223936781 - 0.4223936781 i) |000000000000000000000000\\rangle+(0.0987962761 - 0.0660135612 i) |001000000000000000000000\\rangle+(-0.1598729636 - 0.2392667986 i) |010000000000000000000000\\rangle-0.2877637319 |011000000000000000000000\\rangle+(-0.0918167346 - 0.0613499807 i) |100000000000000000000000\\rangle- 0.5551542582 i |101000000000000000000000\\rangle+(-0.0681684461 - 0.3427059211 i) |110000000000000000000000\\rangle+(0.1419534404 - 0.0282362949 i) |111000000000000000000000\\rangle$$"
      ],
      "text/plain": [
       "<IPython.core.display.Latex object>"
      ]
     },
     "execution_count": 30,
     "metadata": {},
     "output_type": "execute_result"
    }
   ],
   "source": [
    "\n",
    "selectswap_test = QSP_selectswap(3, vec, 5)\n",
    "selectswap_test.compose(output_swapper(3 + 5 * 2**2 + 1), inplace=True)\n",
    "\n",
    "Statevector(selectswap_test).draw('latex')"
   ]
  },
  {
   "cell_type": "code",
   "execution_count": 29,
   "id": "ab755632",
   "metadata": {},
   "outputs": [
    {
     "data": {
      "text/latex": [
       "$$(-0.4223936781 - 0.4223936781 i) |000000000\\rangle+(0.0987962761 - 0.0660135612 i) |001000000\\rangle+(-0.1598729636 - 0.2392667986 i) |010000000\\rangle-0.2877637319 |011000000\\rangle+(-0.0918167346 - 0.0613499807 i) |100000000\\rangle- 0.5551542582 i |101000000\\rangle+(-0.0681684461 - 0.3427059211 i) |110000000\\rangle+(0.1419534404 - 0.0282362949 i) |111000000\\rangle$$"
      ],
      "text/plain": [
       "<IPython.core.display.Latex object>"
      ]
     },
     "execution_count": 29,
     "metadata": {},
     "output_type": "execute_result"
    }
   ],
   "source": [
    "select_test = QSP_select(3, vec, 5)\n",
    "select_test.compose(output_swapper(3 + 5 + 1), inplace=True)\n",
    "\n",
    "Statevector(select_test).draw('latex')"
   ]
  },
  {
   "cell_type": "markdown",
   "id": "c7c60423",
   "metadata": {},
   "source": [
    "Finally we run the SELECT version with high precision to verify that the algorithm actually works. "
   ]
  },
  {
   "cell_type": "code",
   "execution_count": 34,
   "id": "3cb3126a",
   "metadata": {},
   "outputs": [
    {
     "data": {
      "text/latex": [
       "$$(-0.3414672408 - 0.3698522024 i) |0000000000000000000\\rangle+(0.1471414602 - 0.0760916857 i) |0010000000000000000\\rangle+(-0.1860051224 - 0.2905196212 i) |0100000000000000000\\rangle+(-0.3662411979 - 0.0510295082 i) |0110000000000000000\\rangle+(-0.0740460953 - 0.0569907066 i) |1000000000000000000\\rangle+(0.0318438423 - 0.4792714708 i) |1010000000000000000\\rangle+(-0.0291442725 - 0.4145991304 i) |1100000000000000000\\rangle+(0.2232381423 - 0.0375460078 i) |1110000000000000000\\rangle$$"
      ],
      "text/plain": [
       "<IPython.core.display.Latex object>"
      ]
     },
     "execution_count": 34,
     "metadata": {},
     "output_type": "execute_result"
    }
   ],
   "source": [
    "select_test = QSP_select(3, vec, 15)\n",
    "select_test.compose(output_swapper(3 + 15 + 1), inplace=True)\n",
    "\n",
    "Statevector(select_test).draw('latex')"
   ]
  }
 ],
 "metadata": {
  "kernelspec": {
   "display_name": "Python 3",
   "language": "python",
   "name": "python3"
  },
  "language_info": {
   "codemirror_mode": {
    "name": "ipython",
    "version": 3
   },
   "file_extension": ".py",
   "mimetype": "text/x-python",
   "name": "python",
   "nbconvert_exporter": "python",
   "pygments_lexer": "ipython3",
   "version": "3.13.2"
  }
 },
 "nbformat": 4,
 "nbformat_minor": 5
}
